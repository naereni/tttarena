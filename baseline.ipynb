{
 "cells": [
  {
   "cell_type": "code",
   "execution_count": null,
   "metadata": {},
   "outputs": [],
   "source": [
    "%pip install tttarena"
   ]
  },
  {
   "cell_type": "code",
   "execution_count": null,
   "metadata": {},
   "outputs": [],
   "source": [
    "import time\n",
    "import math\n",
    "from typing import Tuple, List, Optional\n",
    "\n",
    "import numpy as np\n",
    "\n",
    "from tttarena.engine.core.engine import TetrisEngine\n",
    "from tttarena.engine.core.geometry import PIECE_SHAPES\n",
    "from tttarena.engine.core.exceptions import InvalidMove, NoValidMovesError\n",
    "from tttarena.simulator.logger import save_log\n",
    "from tttarena.bots.base_bot import BaseBot\n",
    "\n",
    "from tttarena.engine.sculptor.metrics import get_height_profile\n",
    "from tttarena.simulator.runner import SimulationRunner"
   ]
  },
  {
   "cell_type": "code",
   "execution_count": null,
   "metadata": {},
   "outputs": [],
   "source": [
    "def calculate_final_metric(score_S: float, error_A: float, max_possible_score: float) -> float:\n",
    "    \"\"\"Вычисляет итоговую метрику на основе счета (S) и ошибки аппроксимации (A).\"\"\"\n",
    "    if score_S < 0 or error_A < 0:\n",
    "        raise ValueError(\"Счет и ошибка не могут быть отрицательными.\")\n",
    "    if max_possible_score <= 0:\n",
    "        raise ValueError(\"Максимальный счет должен быть положительным.\")\n",
    "\n",
    "    s_norm = min(score_S / max_possible_score, 1.0)\n",
    "    a_norm = 1.0 / (1.0 + math.sqrt(error_A))\n",
    "\n",
    "    if s_norm == 0 or a_norm == 0:\n",
    "        return 0.0\n",
    "\n",
    "    harmonic_mean = 2 * (s_norm * a_norm) / (s_norm + a_norm)\n",
    "\n",
    "    return harmonic_mean"
   ]
  },
  {
   "cell_type": "markdown",
   "metadata": {},
   "source": [
    "## Код бота\n",
    "\n",
    "Здесь представлен полный код `SimpleBot`. Этот бот использует эвристику, основанную на классических метриках \"хорошего\" поля в Тетрисе:\n",
    "- **Совокупная высота:** Штраф за высоту столбиков.\n",
    "- **\"Дыры\":** Штраф за пустые клетки, над которыми есть блоки.\n",
    "- **Неровность:** Штраф за резкие перепады высот между соседними столбиками.\n",
    "\n",
    "Бот пытается найти такой ход, который минимизирует взвешенную сумму этих метрик. Также он получает большой бонус за очищенные линии."
   ]
  },
  {
   "cell_type": "code",
   "execution_count": null,
   "metadata": {},
   "outputs": [],
   "source": [
    "class SimpleBot(BaseBot):\n",
    "    def find_best_move(self, engine: TetrisEngine) -> Tuple[int, int]:\n",
    "        \"\"\"Ищет лучший ход для текущей фигуры, используя быструю инкрементальную оценку.\"\"\"\n",
    "        best_move: Optional[Tuple[int, int]] = None\n",
    "        best_score = float(\"inf\")\n",
    "\n",
    "        current_piece_type = engine.current_piece_type\n",
    "        if not current_piece_type:\n",
    "            raise RuntimeError(\"Попытка найти ход без текущей фигуры.\")\n",
    "\n",
    "        possible_rotations = PIECE_SHAPES[current_piece_type]\n",
    "        original_height_profile = get_height_profile(engine.board.grid, engine.board.width, engine.board.height)\n",
    "\n",
    "        for rot_idx, shape in enumerate(possible_rotations):\n",
    "            for x in range(engine.board.width):\n",
    "                try:\n",
    "                    # Быстро находим конечную позицию Y без копирования доски\n",
    "                    final_y = engine._find_drop_y(shape, x)\n",
    "\n",
    "                    # Инкрементально вычисляем метрики\n",
    "                    score, lines_cleared = self._calculate_incremental_score(\n",
    "                        engine, original_height_profile, shape, x, final_y\n",
    "                    )\n",
    "\n",
    "                    score -= lines_cleared * 1000\n",
    "\n",
    "                    if score < best_score:\n",
    "                        best_score = score\n",
    "                        best_move = (x, rot_idx)\n",
    "\n",
    "                except InvalidMove:\n",
    "                    continue\n",
    "\n",
    "        if best_move is None:\n",
    "            # Если ни один ход не найден (например, все приводят к немедленному проигрышу),\n",
    "            # пытаемся найти хоть какой-то валидный ход, даже если он плохой.\n",
    "            # Это запасной вариант, чтобы избежать NoValidMovesError.\n",
    "            for rot_idx in range(len(possible_rotations)):\n",
    "                for x in range(engine.board.width):\n",
    "                    try:\n",
    "                        # Просто проверим, можно ли вообще сбросить фигуру\n",
    "                        engine._find_drop_y(possible_rotations[rot_idx], x)\n",
    "                        return (x, rot_idx) # Возвращаем первый же валидный ход\n",
    "                    except InvalidMove:\n",
    "                        continue\n",
    "            \n",
    "            raise NoValidMovesError(\n",
    "                \"Не найдено ни одного валидного хода для текущей фигуры.\"\n",
    "            )\n",
    "\n",
    "        return best_move\n",
    "\n",
    "    def _calculate_incremental_score(\n",
    "        self, engine: TetrisEngine, original_height_profile: List[int],\n",
    "        shape: Tuple[Tuple[int, int], ...], x: int, y: int\n",
    "    ) -> Tuple[float, int]:\n",
    "        \"\"\"\n",
    "        Вычисляет \"штраф\" для хода, не создавая новую доску.\n",
    "        Возвращает (оценка, количество очищенных линий).\n",
    "        \"\"\"\n",
    "        board = engine.board\n",
    "        temp_height_profile = list(original_height_profile)\n",
    "        \n",
    "        piece_coords = set()\n",
    "        for px, py in shape:\n",
    "            abs_x, abs_y = x + px, y + py\n",
    "            if not (0 <= abs_x < board.width and 0 <= abs_y < board.height):\n",
    "                raise InvalidMove(\"Фигура выходит за границы доски\")\n",
    "            if board.grid[abs_y, abs_x] != 0:\n",
    "                raise InvalidMove(\"Столкновение с существующим блоком\")\n",
    "            \n",
    "            piece_coords.add((abs_x, abs_y))\n",
    "            new_height = board.height - abs_y\n",
    "            if new_height > temp_height_profile[abs_x]:\n",
    "                temp_height_profile[abs_x] = new_height\n",
    "\n",
    "        lines_cleared = 0\n",
    "        cleared_rows = set()\n",
    "        unique_y_coords = sorted(list(set(abs_y for _, abs_y in piece_coords)))\n",
    "        \n",
    "        for row_y in unique_y_coords:\n",
    "            is_line_full = True\n",
    "            for col_x in range(board.width):\n",
    "                if board.grid[row_y, col_x] == 0 and (col_x, row_y) not in piece_coords:\n",
    "                    is_line_full = False\n",
    "                    break\n",
    "            if is_line_full:\n",
    "                lines_cleared += 1\n",
    "                cleared_rows.add(row_y)\n",
    "\n",
    "        holes = 0\n",
    "        for abs_x, col_height in enumerate(temp_height_profile):\n",
    "            start_y = board.height - col_height\n",
    "            for row_y in range(start_y, board.height):\n",
    "                if board.grid[row_y, abs_x] == 0 and (abs_x, row_y) not in piece_coords:\n",
    "                    if row_y not in cleared_rows:\n",
    "                        holes += 1\n",
    "\n",
    "        bumpiness = np.sum(np.abs(np.diff(temp_height_profile)))\n",
    "        aggregate_height = np.sum(temp_height_profile)\n",
    "\n",
    "        # Веса из оригинальной статьи Pierre Dellacherie\n",
    "        # https://github.com/JiangkaiWu/AI-Tetris/blob/master/ai.cpp\n",
    "        score = aggregate_height * 0.51 + holes * 0.76 + bumpiness * 0.18\n",
    "\n",
    "        return score, lines_cleared\n"
   ]
  },
  {
   "cell_type": "markdown",
   "metadata": {},
   "source": [
    "## Запуск симуляции"
   ]
  },
  {
   "cell_type": "code",
   "execution_count": null,
   "metadata": {},
   "outputs": [
    {
     "name": "stdout",
     "output_type": "stream",
     "text": [
      "Игра окончена: Невозможно разместить новую фигуру 'T'. Игра окончена.\n"
     ]
    }
   ],
   "source": [
    "SEED = 42 \n",
    "\n",
    "my_bot = SimpleBot()\n",
    "engine = TetrisEngine(width=10, height=20, seed=SEED)\n",
    "runner = SimulationRunner(engine, my_bot)\n",
    "\n",
    "start_time = time.time()\n",
    "results = runner.run(start_time=start_time)\n",
    "duration = time.time() - start_time\n",
    "save_log(results, SEED)"
   ]
  },
  {
   "cell_type": "code",
   "execution_count": 8,
   "metadata": {},
   "outputs": [
    {
     "name": "stdout",
     "output_type": "stream",
     "text": [
      "\n",
      "==================== ИТОГОВЫЕ РЕЗУЛЬТАТЫ ====================\n",
      "Продолжительность: 1.89 сек.\n",
      "Сид: 42\n",
      "Итоговый счет (S): 113700\n",
      "Ошибка аппроксимации (A): 35.9376\n",
      "ФИНАЛЬНАЯ МЕТРИКА: 0.2285\n",
      "RPS (фигур в секунду): 1395.68\n",
      "==============================================================\n"
     ]
    }
   ],
   "source": [
    "print(\"\\n\" + \"=\" * 20 + \" ИТОГОВЫЕ РЕЗУЛЬТАТЫ \" + \"=\" * 20)\n",
    "print(f\"Продолжительность: {duration:.2f} сек.\")\n",
    "print(f\"Сид: {results['seed']}\")\n",
    "print(f\"Итоговый счет (S): {results['final_score_S']}\")\n",
    "print(f\"Ошибка аппроксимации (A): {results['final_error_A']:.4f}\")\n",
    "print(f\"ФИНАЛЬНАЯ МЕТРИКА: {results['final_metric']:.4f}\")\n",
    "print(f\"RPS (фигур в секунду): {results['final_rps']:.2f}\")\n",
    "print(\"=\" * 62)"
   ]
  }
 ],
 "metadata": {
  "kernelspec": {
   "display_name": "Python 3 (ipykernel)",
   "language": "python",
   "name": "python3"
  },
  "language_info": {
   "codemirror_mode": {
    "name": "ipython",
    "version": 3
   },
   "file_extension": ".py",
   "mimetype": "text/x-python",
   "name": "python",
   "nbconvert_exporter": "python",
   "pygments_lexer": "ipython3",
   "version": "3.13.5"
  }
 },
 "nbformat": 4,
 "nbformat_minor": 4
}
